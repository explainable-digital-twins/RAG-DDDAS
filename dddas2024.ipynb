{
  "nbformat": 4,
  "nbformat_minor": 0,
  "metadata": {
    "colab": {
      "provenance": [],
      "authorship_tag": "ABX9TyMnT7G9/f87nGU/s2RbNNWD",
      "include_colab_link": true
    },
    "kernelspec": {
      "name": "python3",
      "display_name": "Python 3"
    },
    "language_info": {
      "name": "python"
    }
  },
  "cells": [
    {
      "cell_type": "markdown",
      "metadata": {
        "id": "view-in-github",
        "colab_type": "text"
      },
      "source": [
        "<a href=\"https://colab.research.google.com/github/explainable-digital-twins/RAG-DDDAS/blob/main/dddas2024.ipynb\" target=\"_parent\"><img src=\"https://colab.research.google.com/assets/colab-badge.svg\" alt=\"Open In Colab\"/></a>"
      ]
    },
    {
      "cell_type": "code",
      "execution_count": null,
      "metadata": {
        "id": "x_XYbBcwH393",
        "colab": {
          "base_uri": "https://localhost:8080/"
        },
        "outputId": "9493c04c-de46-4466-9d4e-1d4a590fbead"
      },
      "outputs": [
        {
          "output_type": "stream",
          "name": "stdout",
          "text": [
            "\u001b[2K     \u001b[90m━━━━━━━━━━━━━━━━━━━━━━━━━━━━━━━━━━━━━━━━\u001b[0m \u001b[32m973.7/973.7 kB\u001b[0m \u001b[31m1.2 MB/s\u001b[0m eta \u001b[36m0:00:00\u001b[0m\n",
            "\u001b[2K     \u001b[90m━━━━━━━━━━━━━━━━━━━━━━━━━━━━━━━━━━━━━━━━\u001b[0m \u001b[32m2.1/2.1 MB\u001b[0m \u001b[31m1.1 MB/s\u001b[0m eta \u001b[36m0:00:00\u001b[0m\n",
            "\u001b[2K     \u001b[90m━━━━━━━━━━━━━━━━━━━━━━━━━━━━━━━━━━━━━━━━\u001b[0m \u001b[32m307.9/307.9 kB\u001b[0m \u001b[31m1.5 MB/s\u001b[0m eta \u001b[36m0:00:00\u001b[0m\n",
            "\u001b[2K     \u001b[90m━━━━━━━━━━━━━━━━━━━━━━━━━━━━━━━━━━━━━━━━\u001b[0m \u001b[32m121.2/121.2 kB\u001b[0m \u001b[31m1.4 MB/s\u001b[0m eta \u001b[36m0:00:00\u001b[0m\n",
            "\u001b[2K     \u001b[90m━━━━━━━━━━━━━━━━━━━━━━━━━━━━━━━━━━━━━━━━\u001b[0m \u001b[32m320.6/320.6 kB\u001b[0m \u001b[31m1.6 MB/s\u001b[0m eta \u001b[36m0:00:00\u001b[0m\n",
            "\u001b[2K     \u001b[90m━━━━━━━━━━━━━━━━━━━━━━━━━━━━━━━━━━━━━━━━\u001b[0m \u001b[32m1.1/1.1 MB\u001b[0m \u001b[31m1.8 MB/s\u001b[0m eta \u001b[36m0:00:00\u001b[0m\n",
            "\u001b[2K     \u001b[90m━━━━━━━━━━━━━━━━━━━━━━━━━━━━━━━━━━━━━━━━\u001b[0m \u001b[32m526.8/526.8 kB\u001b[0m \u001b[31m1.9 MB/s\u001b[0m eta \u001b[36m0:00:00\u001b[0m\n",
            "\u001b[2K     \u001b[90m━━━━━━━━━━━━━━━━━━━━━━━━━━━━━━━━━━━━━━━━\u001b[0m \u001b[32m92.0/92.0 kB\u001b[0m \u001b[31m1.7 MB/s\u001b[0m eta \u001b[36m0:00:00\u001b[0m\n",
            "\u001b[2K     \u001b[90m━━━━━━━━━━━━━━━━━━━━━━━━━━━━━━━━━━━━━━━━\u001b[0m \u001b[32m2.4/2.4 MB\u001b[0m \u001b[31m2.4 MB/s\u001b[0m eta \u001b[36m0:00:00\u001b[0m\n",
            "\u001b[2K     \u001b[90m━━━━━━━━━━━━━━━━━━━━━━━━━━━━━━━━━━━━━━━━\u001b[0m \u001b[32m60.8/60.8 kB\u001b[0m \u001b[31m688.0 kB/s\u001b[0m eta \u001b[36m0:00:00\u001b[0m\n",
            "\u001b[2K     \u001b[90m━━━━━━━━━━━━━━━━━━━━━━━━━━━━━━━━━━━━━━━━\u001b[0m \u001b[32m41.3/41.3 kB\u001b[0m \u001b[31m2.4 MB/s\u001b[0m eta \u001b[36m0:00:00\u001b[0m\n",
            "\u001b[2K     \u001b[90m━━━━━━━━━━━━━━━━━━━━━━━━━━━━━━━━━━━━━━━━\u001b[0m \u001b[32m6.8/6.8 MB\u001b[0m \u001b[31m2.8 MB/s\u001b[0m eta \u001b[36m0:00:00\u001b[0m\n",
            "\u001b[2K     \u001b[90m━━━━━━━━━━━━━━━━━━━━━━━━━━━━━━━━━━━━━━━━\u001b[0m \u001b[32m60.1/60.1 kB\u001b[0m \u001b[31m2.4 MB/s\u001b[0m eta \u001b[36m0:00:00\u001b[0m\n",
            "\u001b[2K     \u001b[90m━━━━━━━━━━━━━━━━━━━━━━━━━━━━━━━━━━━━━━━━\u001b[0m \u001b[32m106.1/106.1 kB\u001b[0m \u001b[31m2.7 MB/s\u001b[0m eta \u001b[36m0:00:00\u001b[0m\n",
            "\u001b[2K     \u001b[90m━━━━━━━━━━━━━━━━━━━━━━━━━━━━━━━━━━━━━━━━\u001b[0m \u001b[32m67.3/67.3 kB\u001b[0m \u001b[31m2.6 MB/s\u001b[0m eta \u001b[36m0:00:00\u001b[0m\n",
            "\u001b[?25h  Installing build dependencies ... \u001b[?25l\u001b[?25hdone\n",
            "  Getting requirements to build wheel ... \u001b[?25l\u001b[?25hdone\n",
            "  Preparing metadata (pyproject.toml) ... \u001b[?25l\u001b[?25hdone\n",
            "\u001b[2K     \u001b[90m━━━━━━━━━━━━━━━━━━━━━━━━━━━━━━━━━━━━━━━━\u001b[0m \u001b[32m283.7/283.7 kB\u001b[0m \u001b[31m2.9 MB/s\u001b[0m eta \u001b[36m0:00:00\u001b[0m\n",
            "\u001b[2K     \u001b[90m━━━━━━━━━━━━━━━━━━━━━━━━━━━━━━━━━━━━━━━━\u001b[0m \u001b[32m1.6/1.6 MB\u001b[0m \u001b[31m3.0 MB/s\u001b[0m eta \u001b[36m0:00:00\u001b[0m\n",
            "\u001b[2K     \u001b[90m━━━━━━━━━━━━━━━━━━━━━━━━━━━━━━━━━━━━━━━━\u001b[0m \u001b[32m67.6/67.6 kB\u001b[0m \u001b[31m3.1 MB/s\u001b[0m eta \u001b[36m0:00:00\u001b[0m\n",
            "\u001b[2K     \u001b[90m━━━━━━━━━━━━━━━━━━━━━━━━━━━━━━━━━━━━━━━━\u001b[0m \u001b[32m142.5/142.5 kB\u001b[0m \u001b[31m2.9 MB/s\u001b[0m eta \u001b[36m0:00:00\u001b[0m\n",
            "\u001b[2K     \u001b[90m━━━━━━━━━━━━━━━━━━━━━━━━━━━━━━━━━━━━━━━━\u001b[0m \u001b[32m49.3/49.3 kB\u001b[0m \u001b[31m2.6 MB/s\u001b[0m eta \u001b[36m0:00:00\u001b[0m\n",
            "\u001b[2K     \u001b[90m━━━━━━━━━━━━━━━━━━━━━━━━━━━━━━━━━━━━━━━━\u001b[0m \u001b[32m71.9/71.9 kB\u001b[0m \u001b[31m3.0 MB/s\u001b[0m eta \u001b[36m0:00:00\u001b[0m\n",
            "\u001b[2K     \u001b[90m━━━━━━━━━━━━━━━━━━━━━━━━━━━━━━━━━━━━━━━━\u001b[0m \u001b[32m75.6/75.6 kB\u001b[0m \u001b[31m3.1 MB/s\u001b[0m eta \u001b[36m0:00:00\u001b[0m\n",
            "\u001b[2K     \u001b[90m━━━━━━━━━━━━━━━━━━━━━━━━━━━━━━━━━━━━━━━━\u001b[0m \u001b[32m53.6/53.6 kB\u001b[0m \u001b[31m2.7 MB/s\u001b[0m eta \u001b[36m0:00:00\u001b[0m\n",
            "\u001b[2K     \u001b[90m━━━━━━━━━━━━━━━━━━━━━━━━━━━━━━━━━━━━━━━━\u001b[0m \u001b[32m53.0/53.0 kB\u001b[0m \u001b[31m3.2 MB/s\u001b[0m eta \u001b[36m0:00:00\u001b[0m\n",
            "\u001b[2K     \u001b[90m━━━━━━━━━━━━━━━━━━━━━━━━━━━━━━━━━━━━━━━━\u001b[0m \u001b[32m307.7/307.7 kB\u001b[0m \u001b[31m3.0 MB/s\u001b[0m eta \u001b[36m0:00:00\u001b[0m\n",
            "\u001b[2K     \u001b[90m━━━━━━━━━━━━━━━━━━━━━━━━━━━━━━━━━━━━━━━━\u001b[0m \u001b[32m47.2/47.2 kB\u001b[0m \u001b[31m2.8 MB/s\u001b[0m eta \u001b[36m0:00:00\u001b[0m\n",
            "\u001b[2K     \u001b[90m━━━━━━━━━━━━━━━━━━━━━━━━━━━━━━━━━━━━━━━━\u001b[0m \u001b[32m77.9/77.9 kB\u001b[0m \u001b[31m3.1 MB/s\u001b[0m eta \u001b[36m0:00:00\u001b[0m\n",
            "\u001b[2K     \u001b[90m━━━━━━━━━━━━━━━━━━━━━━━━━━━━━━━━━━━━━━━━\u001b[0m \u001b[32m58.3/58.3 kB\u001b[0m \u001b[31m2.8 MB/s\u001b[0m eta \u001b[36m0:00:00\u001b[0m\n",
            "\u001b[2K     \u001b[90m━━━━━━━━━━━━━━━━━━━━━━━━━━━━━━━━━━━━━━━━\u001b[0m \u001b[32m46.0/46.0 kB\u001b[0m \u001b[31m2.6 MB/s\u001b[0m eta \u001b[36m0:00:00\u001b[0m\n",
            "\u001b[2K     \u001b[90m━━━━━━━━━━━━━━━━━━━━━━━━━━━━━━━━━━━━━━━━\u001b[0m \u001b[32m50.8/50.8 kB\u001b[0m \u001b[31m2.7 MB/s\u001b[0m eta \u001b[36m0:00:00\u001b[0m\n",
            "\u001b[2K     \u001b[90m━━━━━━━━━━━━━━━━━━━━━━━━━━━━━━━━━━━━━━━━\u001b[0m \u001b[32m341.4/341.4 kB\u001b[0m \u001b[31m3.2 MB/s\u001b[0m eta \u001b[36m0:00:00\u001b[0m\n",
            "\u001b[2K     \u001b[90m━━━━━━━━━━━━━━━━━━━━━━━━━━━━━━━━━━━━━━━━\u001b[0m \u001b[32m3.4/3.4 MB\u001b[0m \u001b[31m3.5 MB/s\u001b[0m eta \u001b[36m0:00:00\u001b[0m\n",
            "\u001b[2K     \u001b[90m━━━━━━━━━━━━━━━━━━━━━━━━━━━━━━━━━━━━━━━━\u001b[0m \u001b[32m1.3/1.3 MB\u001b[0m \u001b[31m3.3 MB/s\u001b[0m eta \u001b[36m0:00:00\u001b[0m\n",
            "\u001b[2K     \u001b[90m━━━━━━━━━━━━━━━━━━━━━━━━━━━━━━━━━━━━━━━━\u001b[0m \u001b[32m130.2/130.2 kB\u001b[0m \u001b[31m2.7 MB/s\u001b[0m eta \u001b[36m0:00:00\u001b[0m\n",
            "\u001b[2K     \u001b[90m━━━━━━━━━━━━━━━━━━━━━━━━━━━━━━━━━━━━━━━━\u001b[0m \u001b[32m86.8/86.8 kB\u001b[0m \u001b[31m2.9 MB/s\u001b[0m eta \u001b[36m0:00:00\u001b[0m\n",
            "\u001b[?25h  Building wheel for pypika (pyproject.toml) ... \u001b[?25l\u001b[?25hdone\n",
            "\u001b[31mERROR: pip's dependency resolver does not currently take into account all the packages that are installed. This behaviour is the source of the following dependency conflicts.\n",
            "spacy 3.7.4 requires typer<0.10.0,>=0.3.0, but you have typer 0.12.3 which is incompatible.\n",
            "weasel 0.3.4 requires typer<0.10.0,>=0.3.0, but you have typer 0.12.3 which is incompatible.\u001b[0m\u001b[31m\n",
            "\u001b[0m"
          ]
        }
      ],
      "source": [
        "!pip install --upgrade --quiet langchain langchain-community langchain-openai langchain-chroma"
      ]
    },
    {
      "cell_type": "code",
      "source": [
        "from langchain_chroma import Chroma\n",
        "from langchain_core.output_parsers import StrOutputParser\n",
        "from langchain_core.runnables import RunnablePassthrough\n",
        "from langchain_openai import OpenAIEmbeddings\n",
        "from langchain_text_splitters import RecursiveCharacterTextSplitter"
      ],
      "metadata": {
        "id": "GQ1wGaclWgJA"
      },
      "execution_count": null,
      "outputs": []
    },
    {
      "cell_type": "code",
      "source": [
        "from google.colab import userdata\n",
        "import os\n",
        "\n",
        "OPENAI_API_KEY = userdata.get('OPENAI_API_KEY')\n",
        "BASE_URL = userdata.get('OPENAI_API_URL')\n",
        "\n",
        "os.environ[\"OPENAI_API_KEY\"] = OPENAI_API_KEY\n",
        "os.environ[\"OPENAI_API_BASE\"]= BASE_URL"
      ],
      "metadata": {
        "id": "R_94VeJ1IDy_"
      },
      "execution_count": null,
      "outputs": []
    },
    {
      "cell_type": "markdown",
      "source": [
        "# Prepare the knowledge base"
      ],
      "metadata": {
        "id": "KUan_YAlRazm"
      }
    },
    {
      "cell_type": "code",
      "source": [
        "!gdown https://drive.google.com/uc?id=1Iz3tm1Qunnmb_tk_XKUmmuT00ESq2rth"
      ],
      "metadata": {
        "colab": {
          "base_uri": "https://localhost:8080/"
        },
        "id": "tm4h-KZiQar-",
        "outputId": "7c7c4cf5-cae9-44e6-ce09-43cee9a3cecd"
      },
      "execution_count": null,
      "outputs": [
        {
          "output_type": "stream",
          "name": "stdout",
          "text": [
            "Downloading...\n",
            "From: https://drive.google.com/uc?id=1Iz3tm1Qunnmb_tk_XKUmmuT00ESq2rth\n",
            "To: /content/dddas_paper.tex\n",
            "\r  0% 0.00/18.5k [00:00<?, ?B/s]\r100% 18.5k/18.5k [00:00<00:00, 46.9MB/s]\n"
          ]
        }
      ]
    },
    {
      "cell_type": "code",
      "source": [
        "from langchain.document_loaders import TextLoader\n",
        "loader = TextLoader('./dddas_paper.tex')\n",
        "documents = loader.load()\n",
        "\n",
        "text_splitter = RecursiveCharacterTextSplitter(chunk_size=500, chunk_overlap=50)\n",
        "splits = text_splitter.split_documents(documents)\n",
        "\n",
        "vectorstore = Chroma.from_documents(\n",
        "    documents=splits,\n",
        "    embedding=OpenAIEmbeddings()\n",
        "    )\n",
        "\n",
        "retriever = vectorstore.as_retriever()"
      ],
      "metadata": {
        "id": "3DUyR1aMeYd3"
      },
      "execution_count": null,
      "outputs": []
    },
    {
      "cell_type": "markdown",
      "source": [
        "# Example DDDAS simulation results"
      ],
      "metadata": {
        "id": "K7GQ58RzzkxL"
      }
    },
    {
      "cell_type": "code",
      "source": [
        "sim_results_1 = \"\"\"\n",
        "{\n",
        "    \"type\": \"scouting area\",\n",
        "    \"simulation_id\": \"1\",\n",
        "    \"tile_of_interest\": {\n",
        "\t\t\"tile_id\": \"1505\",\n",
        "\t    \"confidence_value\": 0.44,\n",
        "\t    \"latitude_tile\": -2.3983453706,\n",
        "\t    \"longitude_tile\": -80.22853516268195,\n",
        "    },\n",
        "    \"T_b\": \"15\",\n",
        "    \"t_insp\": \"9\",\n",
        "    \"simulation_results:\": {\n",
        "\t        \"options\":{\n",
        "\t        \t\"1\": {\n",
        "\t        \t\"drone_id\": \"1\",\n",
        "\t            \"drone_state\": {\n",
        "\t                \"latitude\": -2.3976273476956114,\n",
        "\t                \"longitude\": -80.23033179325019,\n",
        "\t                \"current_status\": \"busy\",\n",
        "\t                \"battery\": 60,\n",
        "\t                \"t_rem\": 8\n",
        "\t            },\n",
        "\t            \"prediction\": {\n",
        "\t            \t\"t_disp\": 21.49771366538664,\n",
        "\t            \t\"t_insp\": 9,\n",
        "\t            \t\"delta_t\": 38.49771366538664,\n",
        "\t            \t\"battery\": 50\n",
        "\t            }\n",
        "\t        },\n",
        "\t\t        \"2\": {\n",
        "\t\t        \t\"drone_id\": \"2\",\n",
        "\t\t            \"drone_state\": {\n",
        "\t\t                \"latitude\": -2.3976273476956114,\n",
        "\t\t                \"longitude\": -80.22781651045466,\n",
        "\t\t                \"current_status\": \"busy\",\n",
        "\t\t                \"battery\": 20,\n",
        "\t\t                \"t_rem\": 5\n",
        "\t\t            },\n",
        "\t\t            \"prediction\": {\n",
        "\t\t\t            \"t_disp\": 11.29115238415127,\n",
        "\t\t\t            \"t_insp\": 9,\n",
        "\t\t\t            \"delta_t\": 25.291152384151268,\n",
        "\t\t\t            \"battery\": 10\n",
        "\t\t\t        }\n",
        "\t\t        },\n",
        "\t\t        \"3\": {\n",
        "\t\t        \t\"drone_id\": \"3\",\n",
        "\t\t            \"drone_state\": {\n",
        "\t\t                \"latitude\": -2.3961913007566613,\n",
        "\t\t                \"longitude\": -80.23212842381844,\n",
        "\t\t                \"current_status\": \"ready\",\n",
        "\t\t                \"battery\": 100,\n",
        "\t\t                \"t_rem\": 0\n",
        "\t\t            },\n",
        "\t\t            \"prediction\": {\n",
        "\t\t\t            \"t_disp\": 46.554638340734314,\n",
        "\t\t\t            \"t_insp\": 9,\n",
        "\t\t\t            \"delta_t\": 55.554638340734314,\n",
        "\t\t\t            \"battery\": 90\n",
        "\t\t\t        }\n",
        "\t\t        }\n",
        "\t        }\n",
        "\t    },\n",
        "    \"final_decision\": {\n",
        "    \t\"selected_drone_id\": \"1\",\n",
        "    }\n",
        "}\n",
        "\"\"\""
      ],
      "metadata": {
        "id": "Mw5RCSjQa6nN"
      },
      "execution_count": null,
      "outputs": []
    },
    {
      "cell_type": "code",
      "source": [
        "sim_results_2 = \"\"\"\n",
        "{\n",
        "    \"type\": \"scouting area\",\n",
        "    \"simulation_id\": \"2\",\n",
        "    \"tile_of_interest\": {\n",
        "\t\t\"tile_id\": \"304\",\n",
        "\t    \"confidence_value\": 0.38,\n",
        "\t    \"latitude_tile\": -2.396819571477832,\n",
        "\t    \"longitude_tile\": -80.23140977159115,\n",
        "    },\n",
        "    \"T_b\": \"15\",\n",
        "    \"t_insp\": \"9\",\n",
        "    \"simulation_results:\": {\n",
        "\t        \"options\":{\n",
        "\t        \t\"1\": {\n",
        "\t        \t\"drone_id\": \"1\",\n",
        "\t            \"drone_state\": {\n",
        "\t                \"latitude\": -2.3969093244144606,\n",
        "                \t\"longitude\": -80.22799617351149,\n",
        "\t                \"current_status\": \"ready\",\n",
        "\t                \"battery\": 78,\n",
        "\t                \"t_rem\": 0\n",
        "\t            },\n",
        "\t            \"prediction\": {\n",
        "\t            \t\"t_disp\": 37.93739997765076,\n",
        "            \t\t\"t_insp\": 3,\n",
        "            \t\t\"delta_t\": 44.93739997765076,\n",
        "\t            \t\"battery\": 60\n",
        "\t            }\n",
        "\t        },\n",
        "\t\t        \"2\": {\n",
        "\t\t        \t\"drone_id\": \"2\",\n",
        "\t\t            \"drone_state\": {\n",
        "\t\t                \"latitude\": -2.397178583189037,\n",
        "                \t\t\"longitude\": -80.22763684739785,\n",
        "                \t\t\"current_status\": \"busy\",\n",
        "                \t\t\"battery\": 81,\n",
        "                \t\t\"t_rem\": 2\n",
        "\t\t            },\n",
        "\t\t            \"prediction\": {\n",
        "\t\t\t            \"t_disp\": 42.10596239824288,\n",
        "            \t\t\t\"t_insp\": 3,\n",
        "            \t\t\t\"delta_t\": 47.10596239824288,\n",
        "\t\t\t            \"battery\": 60\n",
        "\t\t\t        }\n",
        "\t\t        },\n",
        "\t\t        \"3\": {\n",
        "\t\t        \t\"drone_id\": \"3\",\n",
        "\t\t            \"drone_state\": {\n",
        "\t\t                \"latitude\": -2.3961913007566613,\n",
        "                \t\t\"longitude\": -80.23212842381844,\n",
        "                \t\t\"current_status\": \"busy\",\n",
        "                \t\t\"battery\": 90,\n",
        "                \t\t\"t_rem\": 8\n",
        "\t\t            },\n",
        "\t\t            \"prediction\": {\n",
        "\t\t\t            \"t_disp\": 10.60896399486359,\n",
        "            \t\t\t\"t_insp\": 3,\n",
        "            \t\t\t\"delta_t\": 21.60896399486359,\n",
        "\t\t\t            \"battery\": 73\n",
        "\t\t\t        }\n",
        "\t\t        }\n",
        "\t        }\n",
        "\t    },\n",
        "    \"final_decision\": {\n",
        "    \t\"selected_drone_id\": \"3\",\n",
        "    }\n",
        "}\n",
        "\"\"\""
      ],
      "metadata": {
        "id": "IHruk_3V3MAZ"
      },
      "execution_count": null,
      "outputs": []
    },
    {
      "cell_type": "markdown",
      "source": [
        "# LLM Results"
      ],
      "metadata": {
        "id": "Pxe1o4idad-h"
      }
    },
    {
      "cell_type": "markdown",
      "source": [
        "## Prompt with system message"
      ],
      "metadata": {
        "id": "dMnOpKF7jRrC"
      }
    },
    {
      "cell_type": "code",
      "source": [
        "from langchain_core.prompts import PromptTemplate, SystemMessagePromptTemplate, HumanMessagePromptTemplate, ChatPromptTemplate\n",
        "\n",
        "system_template = \"\"\"You are an assistant for question-answering tasks of a multi-resolution system using a fleet of inspection drones for agriculture.\n",
        "Use the following pieces of context and simulation logs to answer the question at the end.\n",
        "The simulation logs (in JSON) records the what-if anlaysis results of different options.\n",
        "If you don't know the answer, just say that you don't know, don't try to make up an answer.\n",
        "Use ten sentences maximum and keep the answer as concise as possible.\n",
        "Explain your answer step-by-step.\n",
        "Always say \"thanks for asking!\" at the end of the answer.\n",
        "\n",
        "\"\"\"\n",
        "system_message_prompt = SystemMessagePromptTemplate.from_template(system_template)\n",
        "\n",
        "human_template = \"\"\"Question:\n",
        "{question}\n",
        "\n",
        "Context:\n",
        "{context}\n",
        "\n",
        "Simulation logs:\n",
        "{logs}\n",
        "\n",
        "Helpful Answer:\n",
        "\"\"\"\n",
        "human_message_prompt = HumanMessagePromptTemplate.from_template(human_template)\n",
        "chat_prompt = ChatPromptTemplate.from_messages([system_message_prompt, human_message_prompt])"
      ],
      "metadata": {
        "id": "dlsAQko2-pT8"
      },
      "execution_count": null,
      "outputs": []
    },
    {
      "cell_type": "markdown",
      "source": [
        "## Scenario 1"
      ],
      "metadata": {
        "id": "FIHoCHe2hfdy"
      }
    },
    {
      "cell_type": "code",
      "source": [
        "from langchain_openai import ChatOpenAI\n",
        "\n",
        "def format_docs(docs):\n",
        "    return \"\\n\\n\".join(doc.page_content for doc in docs)\n",
        "\n",
        "llm = ChatOpenAI(model=\"gpt-4-turbo-2024-04-09\",  temperature=0.2)\n",
        "\n",
        "chat_prompt_partial = chat_prompt.partial(logs=sim_results_1)\n",
        "print(chat_prompt_partial)\n",
        "\n",
        "rag_chain_system_1 = (\n",
        "    {\"context\": retriever | format_docs , \"question\": RunnablePassthrough()}\n",
        "    | chat_prompt_partial\n",
        "    | llm\n",
        "    | StrOutputParser()\n",
        ")\n",
        "\n",
        "rag_chain_system_1"
      ],
      "metadata": {
        "id": "DwXKax-hAd5n",
        "colab": {
          "base_uri": "https://localhost:8080/"
        },
        "outputId": "4dfe7822-cc2c-4c9b-9fe5-8cf540980c5c"
      },
      "execution_count": null,
      "outputs": [
        {
          "output_type": "stream",
          "name": "stdout",
          "text": [
            "input_variables=['context', 'question'] partial_variables={'logs': '\\n{\\n    \"type\": \"scouting area\",\\n    \"simulation_id\": \"1\",\\n    \"tile_of_interest\": {\\n\\t\\t\"tile_id\": \"1505\",\\n\\t    \"confidence_value\": 0.44,\\n\\t    \"latitude_tile\": -2.3983453706,\\n\\t    \"longitude_tile\": -80.22853516268195,\\n    },\\n    \"T_b\": \"15\",\\n    \"t_insp\": \"9\",\\n    \"simulation_results:\": {    \\t\\n\\t        \"options\":{\\n\\t        \\t\"1\": {\\n\\t        \\t\"drone_id\": \"1\",\\n\\t            \"drone_state\": {\\n\\t                \"latitude\": -2.3976273476956114,\\n\\t                \"longitude\": -80.23033179325019,\\n\\t                \"current_status\": \"busy\",\\n\\t                \"battery\": 60,\\n\\t                \"t_rem\": 8\\n\\t            },\\n\\t            \"prediction\": {\\n\\t            \\t\"t_disp\": 21.49771366538664,\\n\\t            \\t\"t_insp\": 9,\\n\\t            \\t\"delta_t\": 38.49771366538664,\\n\\t            \\t\"battery\": 50\\n\\t            }\\n\\t        },\\n\\t\\t        \"2\": {\\n\\t\\t        \\t\"drone_id\": \"2\",\\n\\t\\t            \"drone_state\": {\\n\\t\\t                \"latitude\": -2.3976273476956114,\\n\\t\\t                \"longitude\": -80.22781651045466,\\n\\t\\t                \"current_status\": \"busy\",\\n\\t\\t                \"battery\": 20,\\n\\t\\t                \"t_rem\": 5\\n\\t\\t            },\\n\\t\\t            \"prediction\": {\\n\\t\\t\\t            \"t_disp\": 11.29115238415127,\\n\\t\\t\\t            \"t_insp\": 9,\\n\\t\\t\\t            \"delta_t\": 25.291152384151268,\\n\\t\\t\\t            \"battery\": 10\\n\\t\\t\\t        }\\n\\t\\t        },\\n\\t\\t        \"3\": {\\n\\t\\t        \\t\"drone_id\": \"3\",\\n\\t\\t            \"drone_state\": {\\n\\t\\t                \"latitude\": -2.3961913007566613,\\n\\t\\t                \"longitude\": -80.23212842381844,\\n\\t\\t                \"current_status\": \"ready\",\\n\\t\\t                \"battery\": 100,\\n\\t\\t                \"t_rem\": 0\\n\\t\\t            },\\n\\t\\t            \"prediction\": {\\n\\t\\t\\t            \"t_disp\": 46.554638340734314,\\n\\t\\t\\t            \"t_insp\": 9,\\n\\t\\t\\t            \"delta_t\": 55.554638340734314,\\n\\t\\t\\t            \"battery\": 90\\n\\t\\t\\t        }\\n\\t\\t        }\\n\\t        }\\n\\t    },\\n    \"final_decision\": {\\n    \\t\"selected_drone_id\": \"1\",        \\n    }\\n}\\n'} messages=[SystemMessagePromptTemplate(prompt=PromptTemplate(input_variables=[], template='You are an assistant for question-answering tasks of a multi-resolution system using a fleet of inspection drones for agriculture.\\nUse the following pieces of context and simulation logs to answer the question at the end.\\nThe simulation logs (in JSON) records the what-if anlaysis results of different options.\\nIf you don\\'t know the answer, just say that you don\\'t know, don\\'t try to make up an answer.\\nUse ten sentences maximum and keep the answer as concise as possible.\\nExplain your answer step-by-step.\\nAlways say \"thanks for asking!\" at the end of the answer.\\n\\n')), HumanMessagePromptTemplate(prompt=PromptTemplate(input_variables=['context', 'logs', 'question'], template='Question:\\n{question}\\n\\nContext:\\n{context}\\n\\nSimulation logs:\\n{logs}\\n\\nHelpful Answer:\\n'))]\n"
          ]
        },
        {
          "output_type": "execute_result",
          "data": {
            "text/plain": [
              "{\n",
              "  context: VectorStoreRetriever(tags=['Chroma', 'OpenAIEmbeddings'], vectorstore=<langchain_chroma.vectorstores.Chroma object at 0x7ec7f2c51f60>)\n",
              "           | RunnableLambda(format_docs),\n",
              "  question: RunnablePassthrough()\n",
              "}\n",
              "| ChatPromptTemplate(input_variables=['context', 'question'], partial_variables={'logs': '\\n{\\n    \"type\": \"scouting area\",\\n    \"simulation_id\": \"1\",\\n    \"tile_of_interest\": {\\n\\t\\t\"tile_id\": \"1505\",\\n\\t    \"confidence_value\": 0.44,\\n\\t    \"latitude_tile\": -2.3983453706,\\n\\t    \"longitude_tile\": -80.22853516268195,\\n    },\\n    \"T_b\": \"15\",\\n    \"t_insp\": \"9\",\\n    \"simulation_results:\": {    \\t\\n\\t        \"options\":{\\n\\t        \\t\"1\": {\\n\\t        \\t\"drone_id\": \"1\",\\n\\t            \"drone_state\": {\\n\\t                \"latitude\": -2.3976273476956114,\\n\\t                \"longitude\": -80.23033179325019,\\n\\t                \"current_status\": \"busy\",\\n\\t                \"battery\": 60,\\n\\t                \"t_rem\": 8\\n\\t            },\\n\\t            \"prediction\": {\\n\\t            \\t\"t_disp\": 21.49771366538664,\\n\\t            \\t\"t_insp\": 9,\\n\\t            \\t\"delta_t\": 38.49771366538664,\\n\\t            \\t\"battery\": 50\\n\\t            }\\n\\t        },\\n\\t\\t        \"2\": {\\n\\t\\t        \\t\"drone_id\": \"2\",\\n\\t\\t            \"drone_state\": {\\n\\t\\t                \"latitude\": -2.3976273476956114,\\n\\t\\t                \"longitude\": -80.22781651045466,\\n\\t\\t                \"current_status\": \"busy\",\\n\\t\\t                \"battery\": 20,\\n\\t\\t                \"t_rem\": 5\\n\\t\\t            },\\n\\t\\t            \"prediction\": {\\n\\t\\t\\t            \"t_disp\": 11.29115238415127,\\n\\t\\t\\t            \"t_insp\": 9,\\n\\t\\t\\t            \"delta_t\": 25.291152384151268,\\n\\t\\t\\t            \"battery\": 10\\n\\t\\t\\t        }\\n\\t\\t        },\\n\\t\\t        \"3\": {\\n\\t\\t        \\t\"drone_id\": \"3\",\\n\\t\\t            \"drone_state\": {\\n\\t\\t                \"latitude\": -2.3961913007566613,\\n\\t\\t                \"longitude\": -80.23212842381844,\\n\\t\\t                \"current_status\": \"ready\",\\n\\t\\t                \"battery\": 100,\\n\\t\\t                \"t_rem\": 0\\n\\t\\t            },\\n\\t\\t            \"prediction\": {\\n\\t\\t\\t            \"t_disp\": 46.554638340734314,\\n\\t\\t\\t            \"t_insp\": 9,\\n\\t\\t\\t            \"delta_t\": 55.554638340734314,\\n\\t\\t\\t            \"battery\": 90\\n\\t\\t\\t        }\\n\\t\\t        }\\n\\t        }\\n\\t    },\\n    \"final_decision\": {\\n    \\t\"selected_drone_id\": \"1\",        \\n    }\\n}\\n'}, messages=[SystemMessagePromptTemplate(prompt=PromptTemplate(input_variables=[], template='You are an assistant for question-answering tasks of a multi-resolution system using a fleet of inspection drones for agriculture.\\nUse the following pieces of context and simulation logs to answer the question at the end.\\nThe simulation logs (in JSON) records the what-if anlaysis results of different options.\\nIf you don\\'t know the answer, just say that you don\\'t know, don\\'t try to make up an answer.\\nUse ten sentences maximum and keep the answer as concise as possible.\\nExplain your answer step-by-step.\\nAlways say \"thanks for asking!\" at the end of the answer.\\n\\n')), HumanMessagePromptTemplate(prompt=PromptTemplate(input_variables=['context', 'logs', 'question'], template='Question:\\n{question}\\n\\nContext:\\n{context}\\n\\nSimulation logs:\\n{logs}\\n\\nHelpful Answer:\\n'))])\n",
              "| ChatOpenAI(client=<openai.resources.chat.completions.Completions object at 0x7ec7ef729060>, async_client=<openai.resources.chat.completions.AsyncCompletions object at 0x7ec7ef75b2b0>, model_name='gpt-4-turbo-2024-04-09', temperature=0.2, openai_api_key=SecretStr('**********'), openai_api_base='https://api.a8.hk/v1', openai_proxy='')\n",
              "| StrOutputParser()"
            ]
          },
          "metadata": {},
          "execution_count": 39
        }
      ]
    },
    {
      "cell_type": "code",
      "source": [
        "rag_chain_system_1.invoke(\"Explain why this drone is selected, and why others are not selected. Use no more than 70 words.\")"
      ],
      "metadata": {
        "colab": {
          "base_uri": "https://localhost:8080/",
          "height": 107
        },
        "id": "fW0Ih7RyGWs5",
        "outputId": "e67c0705-03f4-4a0a-8362-cd33e5f16943"
      },
      "execution_count": null,
      "outputs": [
        {
          "output_type": "execute_result",
          "data": {
            "text/plain": [
              "\"The drone is selected based on the minimum total time $\\\\Delta t_j$ and battery threshold $T_b$. Drone 1 has a $\\\\Delta t_j$ of 38.50, which is less than Drone 3's 55.55, and its battery after the mission will be 50, above the threshold $T_b$ of 15. Drone 2, while having a lower $\\\\Delta t_j$ of 25.29, will have a battery of 10, below the threshold. Hence, Drone 1 is selected. Thanks for asking!\""
            ],
            "application/vnd.google.colaboratory.intrinsic+json": {
              "type": "string"
            }
          },
          "metadata": {},
          "execution_count": 75
        }
      ]
    },
    {
      "cell_type": "code",
      "source": [
        "print(retriever.invoke(\"Explain why the drone is selected, and why others are not selected.\"))\n",
        "rag_chain_system_1.invoke(\"Explain why the drone is selected, and why others are not selected.\")"
      ],
      "metadata": {
        "colab": {
          "base_uri": "https://localhost:8080/",
          "height": 323
        },
        "id": "LOVbYe5ETSo3",
        "outputId": "66a7d387-1d27-4576-c524-14740141f206"
      },
      "execution_count": null,
      "outputs": [
        {
          "output_type": "stream",
          "name": "stdout",
          "text": [
            "[Document(page_content=\"All candidate options are then sorted by the total time, and the option with the minimum time $\\\\Delta t_j$ is selected.\\nTherefore, the option that leads to a minimum time $\\\\Delta t_j$ and the drone's predicted battery is above a threshold $T_b$ is selected as the final decision. \\nThe detailed workflow is shown in  Algorithm \\\\ref{algorithm}.\", metadata={'source': './dddas_paper.tex'}), Document(page_content=\"The rest of the paper specifically investigates one specific scenario above where the DDT is the decision-maker, with the LLM explaining the DDT's decisions on \\\\textit{system behaviour adaptation} to optimise task-related goals.\\n\\n\\n\\\\vspace{-.4cm}\\n\\\\section{An Illustrative Example: Drone Fleet in Smart Farming} \\\\label{sec:example}\\n\\\\vspace{-.2cm}\", metadata={'source': './dddas_paper.tex'}), Document(page_content=\"Smart farming applications can be assisted by aerial monitoring using drones and remote sensing to detect problems assessing crop health through vegetation indices such as NDVI \\\\cite{zhang2014crop}. Nevertheless, these drone-based systems are often time-intensive, leading to challenges in sensing and model updates for achieving efficient sensing and prompt updates to models, further constrained by factors such as energy consumption and weather. Given that the system's status changes in\", metadata={'source': './dddas_paper.tex'}), Document(page_content='\\\\noindent\\\\textbf{Planning model:} The re-planning of drones is based on the status of all drones and tiles.\\nA tile requires further inspection if its confidence $\\\\alpha_i$ is less than a threshold $T_\\\\alpha$.\\nWhat-if analysis is conducted to simulate the options to send which inspection drone. \\nOnly options where drones with enough predicted battery life (larger than $T_b$) to finish the task are considered as candidate options.', metadata={'source': './dddas_paper.tex'})]\n"
          ]
        },
        {
          "output_type": "execute_result",
          "data": {
            "text/plain": [
              "\"To determine why drone 1 is selected and the others are not, we need to consider the total time $\\\\Delta t_j$ and the predicted battery life after the mission for each drone, as per the context provided.\\n\\n1. Drone 1 has a predicted total time $\\\\Delta t_j$ of 38.49771366538664 and a predicted battery life of 50 after the mission.\\n2. Drone 2 has a predicted total time $\\\\Delta t_j$ of 25.291152384151268 and a predicted battery life of 10 after the mission.\\n3. Drone 3 has a predicted total time $\\\\Delta t_j$ of 55.554638340734314 and a predicted battery life of 90 after the mission.\\n\\nThe threshold for the battery $T_b$ is 15. Therefore, we can immediately disqualify Drone 2 because its predicted battery life after the mission is below this threshold.\\n\\nBetween Drone 1 and Drone 3, although Drone 3 has a higher remaining battery life, it has a significantly higher total time $\\\\Delta t_j$ compared to Drone 1.\\n\\nThe algorithm selects the drone with the minimum total time $\\\\Delta t_j$, provided that the drone's predicted battery is above the threshold $T_b$. Drone 1 meets both criteria: its total time is lower than that of Drone 3, and its predicted battery life is above the threshold.\\n\\nTherefore, Drone 1 is selected for the mission because it has the lowest total time that meets the battery threshold requirement, while Drone 2 is not selected due to insufficient battery life, and Drone 3 is not selected due to a higher total time.\\n\\nThanks for asking!\""
            ],
            "application/vnd.google.colaboratory.intrinsic+json": {
              "type": "string"
            }
          },
          "metadata": {},
          "execution_count": 30
        }
      ]
    },
    {
      "cell_type": "markdown",
      "source": [
        "## Scenario 2"
      ],
      "metadata": {
        "id": "ck5vBX52hvXX"
      }
    },
    {
      "cell_type": "code",
      "source": [
        "chat_prompt_partial = chat_prompt.partial(logs=sim_results_2)\n",
        "print(chat_prompt_partial)\n",
        "\n",
        "rag_chain_system_2 = (\n",
        "    {\"context\": retriever | format_docs , \"question\": RunnablePassthrough()}\n",
        "    | chat_prompt_partial\n",
        "    | llm\n",
        "    | StrOutputParser()\n",
        ")"
      ],
      "metadata": {
        "colab": {
          "base_uri": "https://localhost:8080/"
        },
        "id": "EH1V6PYS3Vxn",
        "outputId": "d3b4b8ab-3e61-412d-817c-867d211e9fa8"
      },
      "execution_count": null,
      "outputs": [
        {
          "output_type": "stream",
          "name": "stdout",
          "text": [
            "input_variables=['context', 'question'] partial_variables={'logs': '\\n{\\n    \"type\": \"scouting area\",\\n    \"simulation_id\": \"2\",\\n    \"tile_of_interest\": {\\n\\t\\t\"tile_id\": \"304\",\\n\\t    \"confidence_value\": 0.38,\\n\\t    \"latitude_tile\": -2.396819571477832,\\n\\t    \"longitude_tile\": -80.23140977159115,\\n    },\\n    \"T_b\": \"15\",\\n    \"t_insp\": \"9\",\\n    \"simulation_results:\": {    \\t\\n\\t        \"options\":{\\n\\t        \\t\"1\": {\\n\\t        \\t\"drone_id\": \"1\",\\n\\t            \"drone_state\": {\\n\\t                \"latitude\": -2.3969093244144606,\\n                \\t\"longitude\": -80.22799617351149,\\n\\t                \"current_status\": \"ready\",\\n\\t                \"battery\": 78,\\n\\t                \"t_rem\": 0\\n\\t            },\\n\\t            \"prediction\": {\\n\\t            \\t\"t_disp\": 37.93739997765076,\\n            \\t\\t\"t_insp\": 3,\\n            \\t\\t\"delta_t\": 44.93739997765076,\\n\\t            \\t\"battery\": 60\\n\\t            }\\n\\t        },\\n\\t\\t        \"2\": {\\n\\t\\t        \\t\"drone_id\": \"2\",\\n\\t\\t            \"drone_state\": {\\n\\t\\t                \"latitude\": -2.397178583189037,\\n                \\t\\t\"longitude\": -80.22763684739785,\\n                \\t\\t\"current_status\": \"busy\",\\n                \\t\\t\"battery\": 81,\\n                \\t\\t\"t_rem\": 2\\n\\t\\t            },\\n\\t\\t            \"prediction\": {\\n\\t\\t\\t            \"t_disp\": 42.10596239824288,\\n            \\t\\t\\t\"t_insp\": 3,\\n            \\t\\t\\t\"delta_t\": 47.10596239824288,\\n\\t\\t\\t            \"battery\": 60\\n\\t\\t\\t        }\\n\\t\\t        },\\n\\t\\t        \"3\": {\\n\\t\\t        \\t\"drone_id\": \"3\",\\n\\t\\t            \"drone_state\": {\\n\\t\\t                \"latitude\": -2.3961913007566613,\\n                \\t\\t\"longitude\": -80.23212842381844,\\n                \\t\\t\"current_status\": \"busy\",\\n                \\t\\t\"battery\": 90,\\n                \\t\\t\"t_rem\": 8\\n\\t\\t            },\\n\\t\\t            \"prediction\": {\\n\\t\\t\\t            \"t_disp\": 10.60896399486359,\\n            \\t\\t\\t\"t_insp\": 3,\\n            \\t\\t\\t\"delta_t\": 21.60896399486359,\\n\\t\\t\\t            \"battery\": 73\\n\\t\\t\\t        }\\n\\t\\t        }\\n\\t        }\\n\\t    },\\n    \"final_decision\": {\\n    \\t\"selected_drone_id\": \"3\",        \\n    }\\n}\\n'} messages=[SystemMessagePromptTemplate(prompt=PromptTemplate(input_variables=[], template='You are an assistant for question-answering tasks of a multi-resolution system using a fleet of inspection drones for agriculture.\\nUse the following pieces of context and simulation logs to answer the question at the end.\\nThe simulation logs (in JSON) records the what-if anlaysis results of different options.\\nIf you don\\'t know the answer, just say that you don\\'t know, don\\'t try to make up an answer.\\nUse ten sentences maximum and keep the answer as concise as possible.\\nExplain your answer step-by-step.\\nAlways say \"thanks for asking!\" at the end of the answer.\\n\\n')), HumanMessagePromptTemplate(prompt=PromptTemplate(input_variables=['context', 'logs', 'question'], template='Question:\\n{question}\\n\\nContext:\\n{context}\\n\\nSimulation logs:\\n{logs}\\n\\nHelpful Answer:\\n'))]\n"
          ]
        }
      ]
    },
    {
      "cell_type": "code",
      "source": [
        "rag_chain_system_2.invoke(\"Explain why I don't see any drone going to the new tile now? Will any drone go there? Use no more than 50 words.\")"
      ],
      "metadata": {
        "colab": {
          "base_uri": "https://localhost:8080/",
          "height": 71
        },
        "id": "pIjazcSD3sA_",
        "outputId": "a9e43a50-27ed-49ec-a46e-cdc3987ea9d4"
      },
      "execution_count": null,
      "outputs": [
        {
          "output_type": "execute_result",
          "data": {
            "text/plain": [
              "'No drone is going to the new tile now because the final decision selected drone 3, which is currently busy. Drone 3 will go there after finishing its current task and the predicted time to reach and inspect the new tile is 21.61 time units. Thanks for asking!'"
            ],
            "application/vnd.google.colaboratory.intrinsic+json": {
              "type": "string"
            }
          },
          "metadata": {},
          "execution_count": 74
        }
      ]
    },
    {
      "cell_type": "code",
      "source": [
        "rag_chain_system_2.invoke(\"Explain why the drone is selected, and why others are not selected. Use no more than 50 words.\")"
      ],
      "metadata": {
        "colab": {
          "base_uri": "https://localhost:8080/",
          "height": 71
        },
        "id": "Wpgh-yxM3f89",
        "outputId": "110dc5f1-c9df-4d4d-a812-7a78495e7a4c"
      },
      "execution_count": null,
      "outputs": [
        {
          "output_type": "execute_result",
          "data": {
            "text/plain": [
              "'The drone is selected based on the minimum total time $\\\\Delta t_j$ and sufficient battery life above threshold $T_b$. Drone 3 has the lowest $\\\\Delta t_j$ of 21.61 and battery after prediction is 73, above $T_b$ of 15. Other drones have higher $\\\\Delta t_j$ or are busy. Thanks for asking!'"
            ],
            "application/vnd.google.colaboratory.intrinsic+json": {
              "type": "string"
            }
          },
          "metadata": {},
          "execution_count": 71
        }
      ]
    },
    {
      "cell_type": "code",
      "source": [
        "print(retriever.invoke(\"Explain why the drone is selected, and why others are not selected.\"))\n",
        "rag_chain_system_2.invoke(\"Explain why the drone is selected, and why others are not selected.\")"
      ],
      "metadata": {
        "colab": {
          "base_uri": "https://localhost:8080/",
          "height": 252
        },
        "id": "soTxIILe3ZVP",
        "outputId": "bdb110b2-0051-41e9-c6b4-6344bb70f328"
      },
      "execution_count": null,
      "outputs": [
        {
          "output_type": "stream",
          "name": "stdout",
          "text": [
            "[Document(page_content=\"All candidate options are then sorted by the total time, and the option with the minimum time $\\\\Delta t_j$ is selected.\\nTherefore, the option that leads to a minimum time $\\\\Delta t_j$ and the drone's predicted battery is above a threshold $T_b$ is selected as the final decision. \\nThe detailed workflow is shown in  Algorithm \\\\ref{algorithm}.\", metadata={'source': './dddas_paper.tex'}), Document(page_content=\"The rest of the paper specifically investigates one specific scenario above where the DDT is the decision-maker, with the LLM explaining the DDT's decisions on \\\\textit{system behaviour adaptation} to optimise task-related goals.\\n\\n\\n\\\\vspace{-.4cm}\\n\\\\section{An Illustrative Example: Drone Fleet in Smart Farming} \\\\label{sec:example}\\n\\\\vspace{-.2cm}\", metadata={'source': './dddas_paper.tex'}), Document(page_content=\"Smart farming applications can be assisted by aerial monitoring using drones and remote sensing to detect problems assessing crop health through vegetation indices such as NDVI \\\\cite{zhang2014crop}. Nevertheless, these drone-based systems are often time-intensive, leading to challenges in sensing and model updates for achieving efficient sensing and prompt updates to models, further constrained by factors such as energy consumption and weather. Given that the system's status changes in\", metadata={'source': './dddas_paper.tex'}), Document(page_content='\\\\noindent\\\\textbf{Planning model:} The re-planning of drones is based on the status of all drones and tiles.\\nA tile requires further inspection if its confidence $\\\\alpha_i$ is less than a threshold $T_\\\\alpha$.\\nWhat-if analysis is conducted to simulate the options to send which inspection drone. \\nOnly options where drones with enough predicted battery life (larger than $T_b$) to finish the task are considered as candidate options.', metadata={'source': './dddas_paper.tex'})]\n"
          ]
        },
        {
          "output_type": "execute_result",
          "data": {
            "text/plain": [
              "\"The drone is selected based on the criteria that it must lead to the minimum total time $\\\\Delta t_j$ for the task while ensuring the drone's predicted battery is above a threshold $T_b$. In the provided simulation logs, three drones were considered as options for a scouting area task. \\n\\n1. Drone 1 had a predicted total time ($\\\\Delta t_j$) of 44.93739997765076 minutes and a post-mission predicted battery of 60%.\\n2. Drone 2 had a predicted total time ($\\\\Delta t_j$) of 47.10596239824288 minutes and a post-mission predicted battery of 60%.\\n3. Drone 3 had a predicted total time ($\\\\Delta t_j$) of 21.60896399486359 minutes and a post-mission predicted battery of 73%.\\n\\nAll drones had a predicted battery level above the threshold $T_b$ of 15%. However, Drone 3 was selected because it had the lowest total time $\\\\Delta t_j$ of 21.60896399486359 minutes, which meets the selection criteria of minimizing the total time while ensuring the battery is above the threshold. Drones 1 and 2 were not selected because their total times were higher than that of Drone 3, despite having sufficient battery levels. This decision aligns with the planning model's goal to optimize task-related goals by efficiently managing the drone fleet's time and energy resources.\\n\\nThanks for asking!\""
            ],
            "application/vnd.google.colaboratory.intrinsic+json": {
              "type": "string"
            }
          },
          "metadata": {},
          "execution_count": 65
        }
      ]
    },
    {
      "cell_type": "code",
      "source": [
        "rag_chain_system_2.invoke(\"Explain why a busy drone is selected, and why other ready drones are not selected. Use no more than 100 words.\")"
      ],
      "metadata": {
        "colab": {
          "base_uri": "https://localhost:8080/",
          "height": 125
        },
        "id": "udEONpiC3ovN",
        "outputId": "3fa19916-6ff9-43c9-978d-5cd3ef51d3f7"
      },
      "execution_count": null,
      "outputs": [
        {
          "output_type": "execute_result",
          "data": {
            "text/plain": [
              "'The busy drone (drone 3) is selected because it has the minimum total time $\\\\Delta t_j$ (21.61) for the task, even though it is currently busy. The system prioritizes the option with the least total time to optimize task-related goals, as stated in the context. The other drones, despite being ready or busy, have higher $\\\\Delta t_j$ values (44.94 for drone 1 and 47.11 for drone 2), making them less optimal choices. Additionally, all drones have predicted battery levels above the threshold $T_b$ of 15, so battery life is not a disqualifying factor. Thanks for asking!'"
            ],
            "application/vnd.google.colaboratory.intrinsic+json": {
              "type": "string"
            }
          },
          "metadata": {},
          "execution_count": 67
        }
      ]
    },
    {
      "cell_type": "code",
      "source": [
        "rag_chain_system_2.invoke(\"Explain why the drone is selected, and why others are not selected. Use no more than 70 words.\")"
      ],
      "metadata": {
        "colab": {
          "base_uri": "https://localhost:8080/",
          "height": 107
        },
        "id": "_D_YsKDS9EcI",
        "outputId": "429a2412-8921-4678-86f5-cace4ab48e89"
      },
      "execution_count": null,
      "outputs": [
        {
          "output_type": "execute_result",
          "data": {
            "text/plain": [
              "\"The drone is selected based on the minimum total time $\\\\Delta t_j$ required for the task, provided the drone's predicted battery is above the threshold $T_b$. In the simulation logs, drone 3 has the lowest $\\\\Delta t_j$ of 21.61, and its predicted battery after the task is 73, which is above the threshold $T_b$ of 15. Drones 1 and 2 have higher $\\\\Delta t_j$ values of 44.94 and 47.11, respectively, and are therefore not selected. Thanks for asking!\""
            ],
            "application/vnd.google.colaboratory.intrinsic+json": {
              "type": "string"
            }
          },
          "metadata": {},
          "execution_count": 68
        }
      ]
    }
  ]
}